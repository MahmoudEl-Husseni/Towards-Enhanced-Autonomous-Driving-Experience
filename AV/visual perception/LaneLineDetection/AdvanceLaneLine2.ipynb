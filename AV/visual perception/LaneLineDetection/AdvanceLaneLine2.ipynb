{
  "cells": [
    {
      "cell_type": "code",
      "execution_count": null,
      "metadata": {
        "id": "V30xfsrJ6gG4"
      },
      "outputs": [
        {
          "ename": "",
          "evalue": "",
          "output_type": "error",
          "traceback": [
            "\u001b[1;31mRunning cells with 'c:\\Users\\user\\AppData\\Local\\Programs\\Python\\Python311\\python.exe' requires the ipykernel package.\n",
            "\u001b[1;31mRun the following command to install 'ipykernel' into the Python environment. \n",
            "\u001b[1;31mCommand: 'c:/Users/user/AppData/Local/Programs/Python/Python311/python.exe -m pip install ipykernel -U --user --force-reinstall'"
          ]
        }
      ],
      "source": [
        "import numpy as np\n",
        "import cv2\n",
        "import matplotlib.pyplot as plt\n",
        "import matplotlib.image as mpimg\n",
        "import glob"
      ]
    },
    {
      "cell_type": "code",
      "execution_count": null,
      "metadata": {
        "colab": {
          "base_uri": "https://localhost:8080/"
        },
        "id": "axCVnZaxWnHS",
        "outputId": "6825fed4-49c9-490c-8bc5-264a49a88d51"
      },
      "outputs": [
        {
          "ename": "",
          "evalue": "",
          "output_type": "error",
          "traceback": [
            "\u001b[1;31mRunning cells with 'c:\\Users\\user\\AppData\\Local\\Programs\\Python\\Python311\\python.exe' requires the ipykernel package.\n",
            "\u001b[1;31mRun the following command to install 'ipykernel' into the Python environment. \n",
            "\u001b[1;31mCommand: 'c:/Users/user/AppData/Local/Programs/Python/Python311/python.exe -m pip install ipykernel -U --user --force-reinstall'"
          ]
        }
      ],
      "source": [
        "!git clone https://github.com/hasantha-nirmal/Advance-Lane-Line-Detection.git"
      ]
    },
    {
      "cell_type": "code",
      "execution_count": null,
      "metadata": {
        "id": "YYuCauzE6gHn"
      },
      "outputs": [
        {
          "ename": "",
          "evalue": "",
          "output_type": "error",
          "traceback": [
            "\u001b[1;31mRunning cells with 'c:\\Users\\user\\AppData\\Local\\Programs\\Python\\Python311\\python.exe' requires the ipykernel package.\n",
            "\u001b[1;31mRun the following command to install 'ipykernel' into the Python environment. \n",
            "\u001b[1;31mCommand: 'c:/Users/user/AppData/Local/Programs/Python/Python311/python.exe -m pip install ipykernel -U --user --force-reinstall'"
          ]
        }
      ],
      "source": [
        "#Calculate objpoints and imagepoints arrays for undistortion\n",
        "def pointsArray(nx=9,ny=6):\n",
        "    objpoints=[] #3D points in real world space\n",
        "    imgpoints=[] #2D points in image\n",
        "\n",
        "    objp=np.zeros((nx*ny,3),np.float32)\n",
        "    objp[:,:2]=np.mgrid[0:nx,0:ny].T.reshape(-1,2)\n",
        "    images=glob.glob('/camera_calibration/calibration/calibration*.jpg')\n",
        "\n",
        "    for fname in images:\n",
        "        img=mpimg.imread(fname)\n",
        "        gray = cv2.cvtColor(img, cv2.COLOR_RGB2GRAY)\n",
        "        ret, corners = cv2.findChessboardCorners(gray, (nx, ny), None)\n",
        "\n",
        "        if ret == True:\n",
        "            imgpoints.append(corners)\n",
        "            objpoints.append(objp)\n",
        "\n",
        "    return objpoints,imgpoints"
      ]
    },
    {
      "cell_type": "code",
      "execution_count": null,
      "metadata": {
        "id": "1tRkVCoe6gHw"
      },
      "outputs": [
        {
          "ename": "",
          "evalue": "",
          "output_type": "error",
          "traceback": [
            "\u001b[1;31mRunning cells with 'c:\\Users\\user\\AppData\\Local\\Programs\\Python\\Python311\\python.exe' requires the ipykernel package.\n",
            "\u001b[1;31mRun the following command to install 'ipykernel' into the Python environment. \n",
            "\u001b[1;31mCommand: 'c:/Users/user/AppData/Local/Programs/Python/Python311/python.exe -m pip install ipykernel -U --user --force-reinstall'"
          ]
        }
      ],
      "source": [
        "def cal_undistort(img):\n",
        "    objpoints,imgpoints=pointsArray(nx=9,ny=6)\n",
        "    ret, mtx, dist, rvecs, tvecs = cv2.calibrateCamera(objpoints, imgpoints, img.shape[1:], None, None)\n",
        "    undist = cv2.undistort(img, mtx, dist, None, mtx)\n",
        "    return undist"
      ]
    },
    {
      "cell_type": "code",
      "execution_count": null,
      "metadata": {
        "id": "OS74qaj26gHy"
      },
      "outputs": [
        {
          "ename": "",
          "evalue": "",
          "output_type": "error",
          "traceback": [
            "\u001b[1;31mRunning cells with 'c:\\Users\\user\\AppData\\Local\\Programs\\Python\\Python311\\python.exe' requires the ipykernel package.\n",
            "\u001b[1;31mRun the following command to install 'ipykernel' into the Python environment. \n",
            "\u001b[1;31mCommand: 'c:/Users/user/AppData/Local/Programs/Python/Python311/python.exe -m pip install ipykernel -U --user --force-reinstall'"
          ]
        }
      ],
      "source": [
        "#Define perspective transformation\n",
        "def warp(img):\n",
        "    img_size=(img.shape[1],img.shape[0])\n",
        "\n",
        "    #Four source coordinates\n",
        "    src=np.float32(\n",
        "    [[230,680],\n",
        "     [550,480],\n",
        "     [750,480],\n",
        "     [1090,680]])\n",
        "    \n",
        "    dst=np.float32(\n",
        "    [[200,600],\n",
        "     [200,200],\n",
        "     [1000,200],\n",
        "     [1000,600]])\n",
        "\n",
        "    M=cv2.getPerspectiveTransform(src,dst)\n",
        "    IM=cv2.getPerspectiveTransform(dst,src)\n",
        "    warped=cv2.warpPerspective(img,M,img_size,flags=cv2.INTER_LINEAR)\n",
        "\n",
        "    return warped"
      ]
    },
    {
      "cell_type": "code",
      "execution_count": null,
      "metadata": {
        "id": "kVCBdMEy6gH2"
      },
      "outputs": [
        {
          "ename": "",
          "evalue": "",
          "output_type": "error",
          "traceback": [
            "\u001b[1;31mRunning cells with 'c:\\Users\\user\\AppData\\Local\\Programs\\Python\\Python311\\python.exe' requires the ipykernel package.\n",
            "\u001b[1;31mRun the following command to install 'ipykernel' into the Python environment. \n",
            "\u001b[1;31mCommand: 'c:/Users/user/AppData/Local/Programs/Python/Python311/python.exe -m pip install ipykernel -U --user --force-reinstall'"
          ]
        }
      ],
      "source": [
        "def hist(img):\n",
        "    bottom_half = img[img.shape[0]//2:,:]\n",
        "    histogram = np.sum(bottom_half, axis=0)\n",
        "    return histogram"
      ]
    },
    {
      "cell_type": "code",
      "execution_count": null,
      "metadata": {
        "id": "zCXqQ8ab6gH4"
      },
      "outputs": [
        {
          "ename": "",
          "evalue": "",
          "output_type": "error",
          "traceback": [
            "\u001b[1;31mRunning cells with 'c:\\Users\\user\\AppData\\Local\\Programs\\Python\\Python311\\python.exe' requires the ipykernel package.\n",
            "\u001b[1;31mRun the following command to install 'ipykernel' into the Python environment. \n",
            "\u001b[1;31mCommand: 'c:/Users/user/AppData/Local/Programs/Python/Python311/python.exe -m pip install ipykernel -U --user --force-reinstall'"
          ]
        }
      ],
      "source": [
        "def find_lane_pixels(binary_warped):\n",
        "    histogram = np.sum(binary_warped[binary_warped.shape[0]//2:,:], axis=0)\n",
        "    out_img = np.dstack((binary_warped, binary_warped, binary_warped))\n",
        "\n",
        "    midpoint = np.int(histogram.shape[0]//2)\n",
        "    leftx_base = np.argmax(histogram[:midpoint])\n",
        "    rightx_base = np.argmax(histogram[midpoint:]) + midpoint\n",
        "\n",
        "    # HYPERPARAMETERS\n",
        "    # Choose the number of sliding windows\n",
        "    nwindows = 9\n",
        "    # Set the width of the windows +/- margin\n",
        "    margin = 100\n",
        "    # Set minimum number of pixels found to recenter window\n",
        "    minpix = 50\n",
        "\n",
        "    window_height = np.int(binary_warped.shape[0]//nwindows)\n",
        "    nonzero = binary_warped.nonzero()\n",
        "    nonzeroy = np.array(nonzero[0])\n",
        "    nonzerox = np.array(nonzero[1])\n",
        "    leftx_current = leftx_base\n",
        "    rightx_current = rightx_base\n",
        "\n",
        "    left_lane_inds = []\n",
        "    right_lane_inds = []\n",
        "\n",
        "    for window in range(nwindows):\n",
        "        # Identify window boundaries in x and y (and right and left)\n",
        "        win_y_low = binary_warped.shape[0] - (window+1)*window_height\n",
        "        win_y_high = binary_warped.shape[0] - window*window_height\n",
        "        win_xleft_low = leftx_current - margin\n",
        "        win_xleft_high = leftx_current + margin\n",
        "        win_xright_low = rightx_current - margin\n",
        "        win_xright_high = rightx_current + margin\n",
        "\n",
        "        # Draw the windows on the visualization image\n",
        "        cv2.rectangle(out_img,(win_xleft_low,win_y_low),\n",
        "        (win_xleft_high,win_y_high),(0,255,0), 2)\n",
        "        cv2.rectangle(out_img,(win_xright_low,win_y_low),\n",
        "        (win_xright_high,win_y_high),(0,255,0), 2)\n",
        "\n",
        "        # Identify the nonzero pixels in x and y within the window #\n",
        "        good_left_inds = ((nonzeroy >= win_y_low) & (nonzeroy < win_y_high) &\n",
        "        (nonzerox >= win_xleft_low) &  (nonzerox < win_xleft_high)).nonzero()[0]\n",
        "        good_right_inds = ((nonzeroy >= win_y_low) & (nonzeroy < win_y_high) &\n",
        "        (nonzerox >= win_xright_low) &  (nonzerox < win_xright_high)).nonzero()[0]\n",
        "\n",
        "        # Append these indices to the lists\n",
        "        left_lane_inds.append(good_left_inds)\n",
        "        right_lane_inds.append(good_right_inds)\n",
        "\n",
        "        # If you found > minpix pixels, recenter next window on their mean position\n",
        "        if len(good_left_inds) > minpix:\n",
        "            leftx_current = np.int(np.mean(nonzerox[good_left_inds]))\n",
        "        if len(good_right_inds) > minpix:\n",
        "            rightx_current = np.int(np.mean(nonzerox[good_right_inds]))\n",
        "\n",
        "    # Concatenate the arrays of indices (previously was a list of lists of pixels)\n",
        "    try:\n",
        "        left_lane_inds = np.concatenate(left_lane_inds)\n",
        "        right_lane_inds = np.concatenate(right_lane_inds)\n",
        "    except ValueError:\n",
        "        # Avoids an error if the above is not implemented fully\n",
        "        pass\n",
        "\n",
        "    # Extract left and right line pixel positions\n",
        "    leftx = nonzerox[left_lane_inds]\n",
        "    lefty = nonzeroy[left_lane_inds]\n",
        "    rightx = nonzerox[right_lane_inds]\n",
        "    righty = nonzeroy[right_lane_inds]\n",
        "\n",
        "    return leftx, lefty, rightx, righty, out_img"
      ]
    },
    {
      "cell_type": "code",
      "execution_count": null,
      "metadata": {},
      "outputs": [
        {
          "ename": "",
          "evalue": "",
          "output_type": "error",
          "traceback": [
            "\u001b[1;31mRunning cells with 'c:\\Users\\user\\AppData\\Local\\Programs\\Python\\Python311\\python.exe' requires the ipykernel package.\n",
            "\u001b[1;31mRun the following command to install 'ipykernel' into the Python environment. \n",
            "\u001b[1;31mCommand: 'c:/Users/user/AppData/Local/Programs/Python/Python311/python.exe -m pip install ipykernel -U --user --force-reinstall'"
          ]
        }
      ],
      "source": [
        "def fit_polynomial(binary_warped):\n",
        "    leftx, lefty, rightx, righty, out_img = find_lane_pixels(binary_warped)\n",
        "\n",
        "    left_fit = np.polyfit(lefty, leftx, 2)\n",
        "    right_fit = np.polyfit(righty, rightx, 2)\n",
        "\n",
        "    ploty = np.linspace(0, binary_warped.shape[0]-1, binary_warped.shape[0] )\n",
        "    try:\n",
        "        left_fitx = left_fit[0]*ploty**2 + left_fit[1]*ploty + left_fit[2]\n",
        "        right_fitx = right_fit[0]*ploty**2 + right_fit[1]*ploty + right_fit[2]\n",
        "    except TypeError:\n",
        "        print('The function failed to fit a line!')\n",
        "        left_fitx = 1*ploty**2 + 1*ploty\n",
        "        right_fitx = 1*ploty**2 + 1*ploty\n",
        "\n",
        "    ## Visualization ##\n",
        "    # Colors in the left and right lane regions\n",
        "    out_img[lefty, leftx] = [255, 0, 0]\n",
        "    out_img[righty, rightx] = [255, 0, 0]\n",
        "\n",
        "    # Plots the left and right polynomials on the lane lines\n",
        "    #plt.plot(left_fitx, ploty, color='yellow')\n",
        "    #plt.plot(right_fitx, ploty, color='yellow')\n",
        "\n",
        "    return left_fit,right_fit,ploty,out_img\n",
        "\n",
        "\n",
        "def fit_poly(img_shape, leftx, lefty, rightx, righty):\n",
        "    left_fit = np.polyfit(lefty, leftx, 2)\n",
        "    right_fit = np.polyfit(righty, rightx, 2)\n",
        "\n",
        "    ploty = np.linspace(0, img_shape[0]-1, img_shape[0])\n",
        "\n",
        "    left_fitx = left_fit[0]*ploty**2 + left_fit[1]*ploty + left_fit[2]\n",
        "    right_fitx = right_fit[0]*ploty**2 + right_fit[1]*ploty + right_fit[2]\n",
        "\n",
        "    return left_fitx, right_fitx, ploty"
      ]
    },
    {
      "cell_type": "code",
      "execution_count": null,
      "metadata": {
        "id": "Y4Hh9vSS6gH8"
      },
      "outputs": [
        {
          "ename": "",
          "evalue": "",
          "output_type": "error",
          "traceback": [
            "\u001b[1;31mRunning cells with 'c:\\Users\\user\\AppData\\Local\\Programs\\Python\\Python311\\python.exe' requires the ipykernel package.\n",
            "\u001b[1;31mRun the following command to install 'ipykernel' into the Python environment. \n",
            "\u001b[1;31mCommand: 'c:/Users/user/AppData/Local/Programs/Python/Python311/python.exe -m pip install ipykernel -U --user --force-reinstall'"
          ]
        }
      ],
      "source": [
        "def search_around_poly(binary_warped):\n",
        "\n",
        "    left_fit_out,right_fit_out,ploty,out_img=fit_polynomial(binary_warped)\n",
        "    left_fit = left_fit_out\n",
        "    right_fit = right_fit_out\n",
        "\n",
        "    margin = 100\n",
        "\n",
        "    # Grab activated pixels\n",
        "    nonzero = binary_warped.nonzero()\n",
        "    nonzeroy = np.array(nonzero[0])\n",
        "    nonzerox = np.array(nonzero[1])\n",
        "\n",
        "    left_lane_inds = ((nonzerox > (left_fit[0]*(nonzeroy**2) + left_fit[1]*nonzeroy +\n",
        "                    left_fit[2] - margin)) & (nonzerox < (left_fit[0]*(nonzeroy**2) +\n",
        "                    left_fit[1]*nonzeroy + left_fit[2] + margin)))\n",
        "    right_lane_inds = ((nonzerox > (right_fit[0]*(nonzeroy**2) + right_fit[1]*nonzeroy +\n",
        "                    right_fit[2] - margin)) & (nonzerox < (right_fit[0]*(nonzeroy**2) +\n",
        "                    right_fit[1]*nonzeroy + right_fit[2] + margin)))\n",
        "\n",
        "    leftx = nonzerox[left_lane_inds]\n",
        "    lefty = nonzeroy[left_lane_inds]\n",
        "    rightx = nonzerox[right_lane_inds]\n",
        "    righty = nonzeroy[right_lane_inds]\n",
        "\n",
        "    left_fitx, right_fitx, ploty = fit_poly(binary_warped.shape, leftx, lefty, rightx, righty)\n",
        "\n",
        "    ## Visualization ##\n",
        "    # Create an image to draw on and an image to show the selection window\n",
        "    out_img = np.dstack((binary_warped, binary_warped, binary_warped))*255\n",
        "    window_img = np.zeros_like(out_img)\n",
        "    \n",
        "    out_img[nonzeroy[left_lane_inds], nonzerox[left_lane_inds]] = [255, 0, 0]\n",
        "    out_img[nonzeroy[right_lane_inds], nonzerox[right_lane_inds]] = [0, 0, 255]\n",
        "\n",
        "    left_line_window1 = np.array([np.transpose(np.vstack([left_fitx-margin, ploty]))])\n",
        "    left_line_window2 = np.array([np.flipud(np.transpose(np.vstack([left_fitx+margin,\n",
        "                              ploty])))])\n",
        "    left_line_pts = np.hstack((left_line_window1, left_line_window2))\n",
        "    right_line_window1 = np.array([np.transpose(np.vstack([right_fitx-margin, ploty]))])\n",
        "    right_line_window2 = np.array([np.flipud(np.transpose(np.vstack([right_fitx+margin,\n",
        "                              ploty])))])\n",
        "    right_line_pts = np.hstack((right_line_window1, right_line_window2))\n",
        "\n",
        "    cv2.fillPoly(window_img, np.int_([left_line_pts]), (0,255, 0))\n",
        "    cv2.fillPoly(window_img, np.int_([right_line_pts]), (0,255, 0))\n",
        "    result = cv2.addWeighted(out_img, 1, window_img, 0.3, 0)\n",
        "\n",
        "    # Plot the polynomial lines onto the image\n",
        "    #plt.plot(left_fitx, ploty, color='yellow')\n",
        "    #plt.plot(right_fitx, ploty, color='yellow')\n",
        "    ## End visualization steps ##\n",
        "\n",
        "    return result,leftx,rightx"
      ]
    },
    {
      "cell_type": "code",
      "execution_count": null,
      "metadata": {
        "id": "Q8BEzuGp6gJB"
      },
      "outputs": [
        {
          "ename": "",
          "evalue": "",
          "output_type": "error",
          "traceback": [
            "\u001b[1;31mRunning cells with 'c:\\Users\\user\\AppData\\Local\\Programs\\Python\\Python311\\python.exe' requires the ipykernel package.\n",
            "\u001b[1;31mRun the following command to install 'ipykernel' into the Python environment. \n",
            "\u001b[1;31mCommand: 'c:/Users/user/AppData/Local/Programs/Python/Python311/python.exe -m pip install ipykernel -U --user --force-reinstall'"
          ]
        }
      ],
      "source": [
        "def CalculateRadiusOfCurvature(binary_warped,left_fit,right_fit):\n",
        "    ym_per_pix = 30/720 # meters per pixel in y dimension\n",
        "    xm_per_pix = 3.7/700 # meters per pixel in x dimension\n",
        "\n",
        "    ploty = np.linspace(0, binary_warped.shape[0]-1, binary_warped.shape[0] )\n",
        "    leftx = left_fit[0]*ploty**2 + left_fit[1]*ploty +left_fit[2]\n",
        "    rightx = right_fit[0]*ploty**2 + right_fit[1]*ploty + right_fit[2]\n",
        "    positionCar= binary_warped.shape[1]/2\n",
        "    # Fit new polynomials to x,y in world space\n",
        "    left_fit_cr = np.polyfit(ploty*ym_per_pix, leftx*xm_per_pix, 2)\n",
        "    right_fit_cr = np.polyfit(ploty*ym_per_pix, rightx*xm_per_pix, 2)\n",
        "\n",
        "\n",
        "    y_eval=np.max(ploty)\n",
        "\n",
        "    left_curverad = ((1 + (2*left_fit_cr[0]*y_eval*ym_per_pix + left_fit_cr[1])**2)**1.5) / np.absolute(2*left_fit_cr[0])\n",
        "    right_curverad = ((1 + (2*right_fit_cr[0]*y_eval*ym_per_pix + right_fit_cr[1])**2)**1.5) / np.absolute(2*right_fit_cr[0])\n",
        "\n",
        "\n",
        "    left_lane_bottom = (left_fit[0]*y_eval)**2 + left_fit[0]*y_eval + left_fit[2]\n",
        "    right_lane_bottom = (right_fit[0]*y_eval)**2 + right_fit[0]*y_eval + right_fit[2]\n",
        "\n",
        "    actualPosition= (left_lane_bottom+ right_lane_bottom)/2\n",
        "\n",
        "    distance= (positionCar - actualPosition)* xm_per_pix\n",
        "\n",
        "    # Now our radius of curvature is in meters\n",
        "    #print(left_curverad, 'm', right_curverad, 'm')\n",
        "    return (left_curverad + right_curverad)/2, distance"
      ]
    },
    {
      "cell_type": "markdown",
      "metadata": {},
      "source": [
        "Lane Detection Pipeline"
      ]
    },
    {
      "cell_type": "code",
      "execution_count": null,
      "metadata": {
        "id": "d-BCdCbe6gJG"
      },
      "outputs": [
        {
          "ename": "",
          "evalue": "",
          "output_type": "error",
          "traceback": [
            "\u001b[1;31mRunning cells with 'c:\\Users\\user\\AppData\\Local\\Programs\\Python\\Python311\\python.exe' requires the ipykernel package.\n",
            "\u001b[1;31mRun the following command to install 'ipykernel' into the Python environment. \n",
            "\u001b[1;31mCommand: 'c:/Users/user/AppData/Local/Programs/Python/Python311/python.exe -m pip install ipykernel -U --user --force-reinstall'"
          ]
        }
      ],
      "source": [
        "def pipeline(img, s_thresh=(90, 255), sx_thresh=(30, 100)):\n",
        "    img=cal_undistort(img)\n",
        "    img = np.copy(img)\n",
        "    # Convert to HLS color space and separate the V channel\n",
        "    hls = cv2.cvtColor(img, cv2.COLOR_RGB2HLS)\n",
        "    l_channel = hls[:,:,1]\n",
        "    s_channel = hls[:,:,2]\n",
        "    # Sobel x\n",
        "    sobelx = cv2.Sobel(l_channel, cv2.CV_64F, 1, 0) # Take the derivative in x\n",
        "    abs_sobelx = np.absolute(sobelx) # Absolute x derivative to accentuate lines away from horizontal\n",
        "    scaled_sobel = np.uint8(255*abs_sobelx/np.max(abs_sobelx))\n",
        "\n",
        "    # Threshold x gradient\n",
        "    sxbinary = np.zeros_like(scaled_sobel)\n",
        "    sxbinary[(scaled_sobel >= sx_thresh[0]) & (scaled_sobel <= sx_thresh[1])] = 10\n",
        "\n",
        "    # Threshold color channel\n",
        "    s_binary = np.zeros_like(s_channel)\n",
        "    s_binary[(s_channel >= s_thresh[0]) & (s_channel <= s_thresh[1])] = 10\n",
        "    \n",
        "    color_binary = np.dstack(( np.zeros_like(sxbinary), sxbinary, s_binary)) * 255\n",
        "    a=np.stack(( np.zeros_like(sxbinary))) * 255\n",
        "    b=np.stack(sxbinary) * 255\n",
        "    c=np.stack(s_binary) * 255\n",
        "    #binary=cv2.cvtColor(color_binary,cv2.RGB2GRAY)\n",
        "\n",
        "    return a+b+c"
      ]
    },
    {
      "cell_type": "code",
      "execution_count": null,
      "metadata": {
        "id": "cmBDMtas6gJM"
      },
      "outputs": [
        {
          "ename": "",
          "evalue": "",
          "output_type": "error",
          "traceback": [
            "\u001b[1;31mRunning cells with 'c:\\Users\\user\\AppData\\Local\\Programs\\Python\\Python311\\python.exe' requires the ipykernel package.\n",
            "\u001b[1;31mRun the following command to install 'ipykernel' into the Python environment. \n",
            "\u001b[1;31mCommand: 'c:/Users/user/AppData/Local/Programs/Python/Python311/python.exe -m pip install ipykernel -U --user --force-reinstall'"
          ]
        }
      ],
      "source": [
        "def abs_sobel_thresh(img, orient='x', thresh_min=0, thresh_max=255,sobel_kernel=3):\n",
        "    undist=cal_undistort(img)\n",
        "    \n",
        "    gray = cv2.cvtColor(undist, cv2.COLOR_RGB2GRAY)\n",
        "    if orient == 'x':\n",
        "        abs_sobel = np.absolute(cv2.Sobel(gray, cv2.CV_64F, 1, 0,ksize=sobel_kernel))\n",
        "    if orient == 'y':\n",
        "        abs_sobel = np.absolute(cv2.Sobel(gray, cv2.CV_64F, 0, 1,ksize=sobel_kernel))\n",
        "\n",
        "    scaled_sobel = np.uint8(255*abs_sobel/np.max(abs_sobel))\n",
        "    binary_output = np.zeros_like(scaled_sobel)\n",
        "    binary_output[(scaled_sobel >= thresh_min) & (scaled_sobel <= thresh_max)] = 1\n",
        "\n",
        "    return binary_output\n",
        "\n",
        "def mag_thresh(img, sobel_kernel=3, mag_thresh=(0, 255)):\n",
        "    undist=cal_undistort(img)\n",
        "\n",
        "    gray = cv2.cvtColor(undist, cv2.COLOR_RGB2GRAY)\n",
        "\n",
        "    sobelx = cv2.Sobel(gray, cv2.CV_64F, 1, 0, ksize=sobel_kernel)\n",
        "    sobely = cv2.Sobel(gray, cv2.CV_64F, 0, 1, ksize=sobel_kernel)\n",
        "    gradmag = np.sqrt(sobelx**2 + sobely**2)\n",
        "\n",
        "    scale_factor = np.max(gradmag)/255\n",
        "    gradmag = (gradmag/scale_factor).astype(np.uint8)\n",
        "\n",
        "    binary_output = np.zeros_like(gradmag)\n",
        "    binary_output[(gradmag >= mag_thresh[0]) & (gradmag <= mag_thresh[1])] = 1\n",
        "\n",
        "    return binary_output\n",
        "\n",
        "def dir_threshold(img, sobel_kernel=3, thresh=(0, np.pi/2)):\n",
        "    undist=cal_undistort(img)\n",
        "    \n",
        "    gray = cv2.cvtColor(undist, cv2.COLOR_RGB2GRAY)\n",
        "    \n",
        "    sobelx = cv2.Sobel(gray, cv2.CV_64F, 1, 0, ksize=sobel_kernel)\n",
        "    sobely = cv2.Sobel(gray, cv2.CV_64F, 0, 1, ksize=sobel_kernel)\n",
        "    \n",
        "    absgraddir = np.arctan2(np.absolute(sobely), np.absolute(sobelx))\n",
        "    binary_output =  np.zeros_like(absgraddir)\n",
        "    binary_output[(absgraddir >= thresh[0]) & (absgraddir <= thresh[1])] = 1\n",
        "\n",
        "    return binary_output"
      ]
    },
    {
      "cell_type": "code",
      "execution_count": null,
      "metadata": {
        "id": "bi6ynNDG6gJO"
      },
      "outputs": [
        {
          "ename": "",
          "evalue": "",
          "output_type": "error",
          "traceback": [
            "\u001b[1;31mRunning cells with 'c:\\Users\\user\\AppData\\Local\\Programs\\Python\\Python311\\python.exe' requires the ipykernel package.\n",
            "\u001b[1;31mRun the following command to install 'ipykernel' into the Python environment. \n",
            "\u001b[1;31mCommand: 'c:/Users/user/AppData/Local/Programs/Python/Python311/python.exe -m pip install ipykernel -U --user --force-reinstall'"
          ]
        }
      ],
      "source": [
        "def combined_threshold(image):\n",
        "    gradx = abs_sobel_thresh(image, orient='x', thresh_min=20, thresh_max=100)\n",
        "    mag_binary = mag_thresh(image, sobel_kernel=3, mag_thresh=(30,100))\n",
        "    dir_binary = dir_threshold(image, sobel_kernel=3, thresh=(0.7, 1.3))\n",
        "    \n",
        "    combined = np.zeros_like(dir_binary)\n",
        "    #combined[((gradx == 1) & (grady == 1)) | ((mag_binary == 1) & (dir_binary == 1))] = 1\n",
        "    combined[(gradx == 1) &  ((mag_binary == 1) & (dir_binary == 1))] = 1\n",
        "\n",
        "    return combined"
      ]
    },
    {
      "cell_type": "code",
      "execution_count": null,
      "metadata": {
        "id": "kuy3cMm76gJP"
      },
      "outputs": [
        {
          "ename": "",
          "evalue": "",
          "output_type": "error",
          "traceback": [
            "\u001b[1;31mRunning cells with 'c:\\Users\\user\\AppData\\Local\\Programs\\Python\\Python311\\python.exe' requires the ipykernel package.\n",
            "\u001b[1;31mRun the following command to install 'ipykernel' into the Python environment. \n",
            "\u001b[1;31mCommand: 'c:/Users/user/AppData/Local/Programs/Python/Python311/python.exe -m pip install ipykernel -U --user --force-reinstall'"
          ]
        }
      ],
      "source": [
        "def process_image(image):\n",
        "    if image.dtype != np.uint8:\n",
        "      image = cv2.cvtColor(image, cv2.COLOR_BGR2GRAY)\n",
        "\n",
        "    hls_binary =pipeline(image)\n",
        "    combined_binary=combined_threshold(image)\n",
        "    summed=hls_binary+combined_binary\n",
        "    binary_warped=warp(summed)\n",
        "    left_fit_out,right_fit_out,ploty,out_img=fit_polynomial(binary_warped)\n",
        "    result,leftx,rightx = search_around_poly(binary_warped)\n",
        "\n",
        "\n",
        "    left_fit = left_fit_out\n",
        "    right_fit = right_fit_out\n",
        "\n",
        "    margin = 100\n",
        "\n",
        "    # Grab activated pixels\n",
        "    nonzero = binary_warped.nonzero()\n",
        "    nonzeroy = np.array(nonzero[0])\n",
        "    nonzerox = np.array(nonzero[1])\n",
        "\n",
        "\n",
        "    left_lane_inds = ((nonzerox > (left_fit[0]*(nonzeroy**2) + left_fit[1]*nonzeroy +\n",
        "                    left_fit[2] - margin)) & (nonzerox < (left_fit[0]*(nonzeroy**2) +\n",
        "                    left_fit[1]*nonzeroy + left_fit[2] + margin)))\n",
        "    right_lane_inds = ((nonzerox > (right_fit[0]*(nonzeroy**2) + right_fit[1]*nonzeroy +\n",
        "                    right_fit[2] - margin)) & (nonzerox < (right_fit[0]*(nonzeroy**2) +\n",
        "                    right_fit[1]*nonzeroy + right_fit[2] + margin)))\n",
        "\n",
        "    leftx = nonzerox[left_lane_inds]\n",
        "    lefty = nonzeroy[left_lane_inds]\n",
        "    rightx = nonzerox[right_lane_inds]\n",
        "    righty = nonzeroy[right_lane_inds]\n",
        "\n",
        "    left_fitx, right_fitx, ploty = fit_poly(binary_warped.shape, leftx, lefty, rightx, righty)\n",
        "\n",
        "\n",
        "    src=np.float32(\n",
        "    [[230,680],\n",
        "     [550,480],\n",
        "     [750,480],\n",
        "     [1090,680]])\n",
        "\n",
        "    dst=np.float32(\n",
        "    [[200,600],\n",
        "     [200,200],\n",
        "     [1000,200],\n",
        "     [1000,600]])\n",
        "\n",
        "    \n",
        "    IM=cv2.getPerspectiveTransform(dst,src)\n",
        "\n",
        "    # Create an image to draw the lines on\n",
        "    warp_zero = np.zeros_like(binary_warped).astype(np.uint8)\n",
        "    color_warp = np.dstack((warp_zero, warp_zero, warp_zero))\n",
        "\n",
        "    # Recast the x and y points into usable format for cv2.fillPoly()\n",
        "    pts_left = np.array([np.transpose(np.vstack([left_fitx, ploty]))])\n",
        "    pts_right = np.array([np.flipud(np.transpose(np.vstack([right_fitx, ploty])))])\n",
        "    pts = np.hstack((pts_left, pts_right))\n",
        "\n",
        "    # Draw the lane onto the warped blank image\n",
        "    cv2.fillPoly(color_warp, np.int_([pts]), (0,255, 0))\n",
        "    cv2.polylines(color_warp, np.int64([pts_left]), isClosed=False, color=(255,0,0), thickness=15)\n",
        "    cv2.polylines(color_warp, np.int64([pts_right]), isClosed=False, color=(0,0,255), thickness=15)\n",
        "\n",
        "    # Warp the blank back to original image space using inverse perspective matrix (IM)\n",
        "    newwarp = cv2.warpPerspective(color_warp, IM, (image.shape[1], image.shape[0]))\n",
        "    # Combine the result with the original image\n",
        "    final_result = cv2.addWeighted(cal_undistort(image), 1, newwarp, 0.3, 0)\n",
        "\n",
        "    # radius=CalculateRadiusOfCurvature(binary_warped,fit_polynomial(binary_warped)[0],fit_polynomial(binary_warped)[1])\n",
        "\n",
        "    # cv2.putText(final_result,\"Radius of Curvature is \" + str(int(radius[0]))+ \"m\", (100,100), 2, 1, (255,255,0),2)\n",
        "    # cv2.putText(final_result,\"Distance from center is \"+ str(radius[1])+ \"m\", (100,150), 2, 1, (255,255,0),2)\n",
        "\n",
        "\n",
        "    return final_result\n"
      ]
    },
    {
      "cell_type": "code",
      "execution_count": null,
      "metadata": {
        "colab": {
          "base_uri": "https://localhost:8080/",
          "height": 426
        },
        "id": "8_jZ5_KK6gJV",
        "outputId": "6d505664-abe2-4c90-93d8-fd43611cea93"
      },
      "outputs": [
        {
          "ename": "",
          "evalue": "",
          "output_type": "error",
          "traceback": [
            "\u001b[1;31mRunning cells with 'c:\\Users\\user\\AppData\\Local\\Programs\\Python\\Python311\\python.exe' requires the ipykernel package.\n",
            "\u001b[1;31mRun the following command to install 'ipykernel' into the Python environment. \n",
            "\u001b[1;31mCommand: 'c:/Users/user/AppData/Local/Programs/Python/Python311/python.exe -m pip install ipykernel -U --user --force-reinstall'"
          ]
        }
      ],
      "source": [
        "image = mpimg.imread('/test/images/t8.jpg')\n",
        "print(image.shape)\n",
        "plt.imshow(process_image(image))"
      ]
    },
    {
      "cell_type": "code",
      "execution_count": null,
      "metadata": {
        "colab": {
          "base_uri": "https://localhost:8080/",
          "height": 1000
        },
        "id": "jLXBNxG26gJX",
        "outputId": "45b4abfb-d042-4eae-a864-9055b2eaf128"
      },
      "outputs": [
        {
          "ename": "",
          "evalue": "",
          "output_type": "error",
          "traceback": [
            "\u001b[1;31mRunning cells with 'c:\\Users\\user\\AppData\\Local\\Programs\\Python\\Python311\\python.exe' requires the ipykernel package.\n",
            "\u001b[1;31mRun the following command to install 'ipykernel' into the Python environment. \n",
            "\u001b[1;31mCommand: 'c:/Users/user/AppData/Local/Programs/Python/Python311/python.exe -m pip install ipykernel -U --user --force-reinstall'"
          ]
        }
      ],
      "source": [
        "# from moviepy.editor import VideoFileClip\n",
        "# video_output1 = '/content/op.mp4'\n",
        "# video_input1 = VideoFileClip('/content/project_video.mp4')\n",
        "# processed_video = video_input1.fl_image(process_image)\n",
        "# %time processed_video.write_videofile(video_output1, audio=False)"
      ]
    },
    {
      "cell_type": "code",
      "execution_count": null,
      "metadata": {
        "id": "oIY0jO5V6gJm"
      },
      "outputs": [
        {
          "ename": "",
          "evalue": "",
          "output_type": "error",
          "traceback": [
            "\u001b[1;31mRunning cells with 'c:\\Users\\user\\AppData\\Local\\Programs\\Python\\Python311\\python.exe' requires the ipykernel package.\n",
            "\u001b[1;31mRun the following command to install 'ipykernel' into the Python environment. \n",
            "\u001b[1;31mCommand: 'c:/Users/user/AppData/Local/Programs/Python/Python311/python.exe -m pip install ipykernel -U --user --force-reinstall'"
          ]
        }
      ],
      "source": [
        "#clips = VideoFileClip('/test/videos/project_video.mp4')\n",
        "#clips.save_frame(\"/test/videos/test.jpg\",t=24.5) # saves the first frame"
      ]
    },
    {
      "cell_type": "code",
      "execution_count": null,
      "metadata": {
        "id": "OAeogODL6gJ5"
      },
      "outputs": [
        {
          "ename": "",
          "evalue": "",
          "output_type": "error",
          "traceback": [
            "\u001b[1;31mRunning cells with 'c:\\Users\\user\\AppData\\Local\\Programs\\Python\\Python311\\python.exe' requires the ipykernel package.\n",
            "\u001b[1;31mRun the following command to install 'ipykernel' into the Python environment. \n",
            "\u001b[1;31mCommand: 'c:/Users/user/AppData/Local/Programs/Python/Python311/python.exe -m pip install ipykernel -U --user --force-reinstall'"
          ]
        }
      ],
      "source": [
        "#For challenge.mp4 video;\n",
        "##Four source coordinates\n",
        "#src=np.float32(\n",
        "    #[[310,680],\n",
        "     #[560,520],\n",
        "     #[760,510],\n",
        "     #[960,680]])\n",
        "##Four destination coordinates\n",
        "#dst=np.float32(\n",
        "    #[[200,700],\n",
        "     #[200,100],\n",
        "     #[1000,100],\n",
        "     #[1000,700]])\n",
        "#pipeline(img, s_thresh=(40, 255), sx_thresh=(30, 100))\n",
        "#In find_lane_pixels(binary_warped) function,change these variables:\n",
        "    #leftx_base=250\n",
        "    #rightx_base=990"
      ]
    }
  ],
  "metadata": {
    "accelerator": "GPU",
    "colab": {
      "gpuType": "T4",
      "provenance": []
    },
    "kernelspec": {
      "display_name": "Python 3",
      "name": "python3"
    },
    "language_info": {
      "codemirror_mode": {
        "name": "ipython",
        "version": 3
      },
      "file_extension": ".py",
      "mimetype": "text/x-python",
      "name": "python",
      "nbconvert_exporter": "python",
      "pygments_lexer": "ipython3",
      "version": "3.11.4"
    }
  },
  "nbformat": 4,
  "nbformat_minor": 0
}
